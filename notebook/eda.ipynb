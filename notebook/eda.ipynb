{
 "cells": [
  {
   "cell_type": "code",
   "execution_count": 14,
   "id": "d6d7fe21",
   "metadata": {},
   "outputs": [],
   "source": [
    "import numpy as np\n",
    "import pandas as pd\n",
    "import seaborn as sns \n",
    "import matplotlib.pyplot as plt\n",
    "%matplotlib inline\n",
    "import warnings\n",
    "warnings.filterwarnings(\"ignore\")\n"
   ]
  },
  {
   "cell_type": "code",
   "execution_count": 5,
   "id": "56a11b4a",
   "metadata": {},
   "outputs": [],
   "source": [
    "df=pd.read_csv(\"data/raw.csv\")\n"
   ]
  },
  {
   "cell_type": "code",
   "execution_count": 6,
   "id": "d79245f2",
   "metadata": {},
   "outputs": [
    {
     "data": {
      "text/html": [
       "<div>\n",
       "<style scoped>\n",
       "    .dataframe tbody tr th:only-of-type {\n",
       "        vertical-align: middle;\n",
       "    }\n",
       "\n",
       "    .dataframe tbody tr th {\n",
       "        vertical-align: top;\n",
       "    }\n",
       "\n",
       "    .dataframe thead th {\n",
       "        text-align: right;\n",
       "    }\n",
       "</style>\n",
       "<table border=\"1\" class=\"dataframe\">\n",
       "  <thead>\n",
       "    <tr style=\"text-align: right;\">\n",
       "      <th></th>\n",
       "      <th>payment_id</th>\n",
       "      <th>customer_id</th>\n",
       "      <th>staff_id</th>\n",
       "      <th>rental_id</th>\n",
       "      <th>amount</th>\n",
       "      <th>payment_date</th>\n",
       "    </tr>\n",
       "  </thead>\n",
       "  <tbody>\n",
       "    <tr>\n",
       "      <th>0</th>\n",
       "      <td>16050</td>\n",
       "      <td>269</td>\n",
       "      <td>2</td>\n",
       "      <td>7</td>\n",
       "      <td>1.99</td>\n",
       "      <td>2020-01-24 21:40:19.996577+00:00</td>\n",
       "    </tr>\n",
       "    <tr>\n",
       "      <th>1</th>\n",
       "      <td>16052</td>\n",
       "      <td>269</td>\n",
       "      <td>2</td>\n",
       "      <td>678</td>\n",
       "      <td>6.99</td>\n",
       "      <td>2020-01-28 21:44:14.996577+00:00</td>\n",
       "    </tr>\n",
       "    <tr>\n",
       "      <th>2</th>\n",
       "      <td>16054</td>\n",
       "      <td>269</td>\n",
       "      <td>1</td>\n",
       "      <td>750</td>\n",
       "      <td>4.99</td>\n",
       "      <td>2020-01-29 08:10:06.996577+00:00</td>\n",
       "    </tr>\n",
       "    <tr>\n",
       "      <th>3</th>\n",
       "      <td>16055</td>\n",
       "      <td>269</td>\n",
       "      <td>2</td>\n",
       "      <td>1099</td>\n",
       "      <td>2.99</td>\n",
       "      <td>2020-01-31 12:23:14.996577+00:00</td>\n",
       "    </tr>\n",
       "    <tr>\n",
       "      <th>4</th>\n",
       "      <td>16056</td>\n",
       "      <td>270</td>\n",
       "      <td>1</td>\n",
       "      <td>193</td>\n",
       "      <td>1.99</td>\n",
       "      <td>2020-01-26 05:10:14.996577+00:00</td>\n",
       "    </tr>\n",
       "  </tbody>\n",
       "</table>\n",
       "</div>"
      ],
      "text/plain": [
       "   payment_id  customer_id  staff_id  rental_id  amount  \\\n",
       "0       16050          269         2          7    1.99   \n",
       "1       16052          269         2        678    6.99   \n",
       "2       16054          269         1        750    4.99   \n",
       "3       16055          269         2       1099    2.99   \n",
       "4       16056          270         1        193    1.99   \n",
       "\n",
       "                       payment_date  \n",
       "0  2020-01-24 21:40:19.996577+00:00  \n",
       "1  2020-01-28 21:44:14.996577+00:00  \n",
       "2  2020-01-29 08:10:06.996577+00:00  \n",
       "3  2020-01-31 12:23:14.996577+00:00  \n",
       "4  2020-01-26 05:10:14.996577+00:00  "
      ]
     },
     "execution_count": 6,
     "metadata": {},
     "output_type": "execute_result"
    }
   ],
   "source": [
    "df.head()\n"
   ]
  },
  {
   "cell_type": "code",
   "execution_count": 7,
   "id": "1c3b7ed7",
   "metadata": {},
   "outputs": [
    {
     "data": {
      "text/plain": [
       "payment_id      0\n",
       "customer_id     0\n",
       "staff_id        0\n",
       "rental_id       0\n",
       "amount          0\n",
       "payment_date    0\n",
       "dtype: int64"
      ]
     },
     "execution_count": 7,
     "metadata": {},
     "output_type": "execute_result"
    }
   ],
   "source": [
    "df.isna().sum()"
   ]
  },
  {
   "cell_type": "code",
   "execution_count": 8,
   "id": "d06e5fda",
   "metadata": {},
   "outputs": [
    {
     "data": {
      "text/plain": [
       "np.int64(0)"
      ]
     },
     "execution_count": 8,
     "metadata": {},
     "output_type": "execute_result"
    }
   ],
   "source": [
    "df.duplicated().sum()"
   ]
  },
  {
   "cell_type": "code",
   "execution_count": 9,
   "id": "0dea7e13",
   "metadata": {},
   "outputs": [
    {
     "name": "stdout",
     "output_type": "stream",
     "text": [
      "<class 'pandas.core.frame.DataFrame'>\n",
      "RangeIndex: 16049 entries, 0 to 16048\n",
      "Data columns (total 6 columns):\n",
      " #   Column        Non-Null Count  Dtype  \n",
      "---  ------        --------------  -----  \n",
      " 0   payment_id    16049 non-null  int64  \n",
      " 1   customer_id   16049 non-null  int64  \n",
      " 2   staff_id      16049 non-null  int64  \n",
      " 3   rental_id     16049 non-null  int64  \n",
      " 4   amount        16049 non-null  float64\n",
      " 5   payment_date  16049 non-null  object \n",
      "dtypes: float64(1), int64(4), object(1)\n",
      "memory usage: 752.4+ KB\n"
     ]
    }
   ],
   "source": [
    "df.info()"
   ]
  },
  {
   "cell_type": "code",
   "execution_count": 10,
   "id": "bdc35eb8",
   "metadata": {},
   "outputs": [
    {
     "data": {
      "text/plain": [
       "payment_id      16049\n",
       "customer_id       599\n",
       "staff_id            2\n",
       "rental_id       16044\n",
       "amount             18\n",
       "payment_date    15817\n",
       "dtype: int64"
      ]
     },
     "execution_count": 10,
     "metadata": {},
     "output_type": "execute_result"
    }
   ],
   "source": [
    "df.nunique()"
   ]
  },
  {
   "cell_type": "code",
   "execution_count": 11,
   "id": "9d916c26",
   "metadata": {},
   "outputs": [
    {
     "data": {
      "text/html": [
       "<div>\n",
       "<style scoped>\n",
       "    .dataframe tbody tr th:only-of-type {\n",
       "        vertical-align: middle;\n",
       "    }\n",
       "\n",
       "    .dataframe tbody tr th {\n",
       "        vertical-align: top;\n",
       "    }\n",
       "\n",
       "    .dataframe thead th {\n",
       "        text-align: right;\n",
       "    }\n",
       "</style>\n",
       "<table border=\"1\" class=\"dataframe\">\n",
       "  <thead>\n",
       "    <tr style=\"text-align: right;\">\n",
       "      <th></th>\n",
       "      <th>payment_id</th>\n",
       "      <th>customer_id</th>\n",
       "      <th>staff_id</th>\n",
       "      <th>rental_id</th>\n",
       "      <th>amount</th>\n",
       "    </tr>\n",
       "  </thead>\n",
       "  <tbody>\n",
       "    <tr>\n",
       "      <th>count</th>\n",
       "      <td>16049.00000</td>\n",
       "      <td>16049.000000</td>\n",
       "      <td>16049.000000</td>\n",
       "      <td>16049.000000</td>\n",
       "      <td>16049.000000</td>\n",
       "    </tr>\n",
       "    <tr>\n",
       "      <th>mean</th>\n",
       "      <td>24074.00000</td>\n",
       "      <td>297.162689</td>\n",
       "      <td>1.497975</td>\n",
       "      <td>8024.301514</td>\n",
       "      <td>4.386286</td>\n",
       "    </tr>\n",
       "    <tr>\n",
       "      <th>std</th>\n",
       "      <td>4633.09157</td>\n",
       "      <td>172.468100</td>\n",
       "      <td>0.500011</td>\n",
       "      <td>4632.452025</td>\n",
       "      <td>2.131412</td>\n",
       "    </tr>\n",
       "    <tr>\n",
       "      <th>min</th>\n",
       "      <td>16050.00000</td>\n",
       "      <td>1.000000</td>\n",
       "      <td>1.000000</td>\n",
       "      <td>1.000000</td>\n",
       "      <td>0.000000</td>\n",
       "    </tr>\n",
       "    <tr>\n",
       "      <th>25%</th>\n",
       "      <td>20062.00000</td>\n",
       "      <td>148.000000</td>\n",
       "      <td>1.000000</td>\n",
       "      <td>4015.000000</td>\n",
       "      <td>2.990000</td>\n",
       "    </tr>\n",
       "    <tr>\n",
       "      <th>50%</th>\n",
       "      <td>24074.00000</td>\n",
       "      <td>296.000000</td>\n",
       "      <td>1.000000</td>\n",
       "      <td>8023.000000</td>\n",
       "      <td>3.990000</td>\n",
       "    </tr>\n",
       "    <tr>\n",
       "      <th>75%</th>\n",
       "      <td>28086.00000</td>\n",
       "      <td>446.000000</td>\n",
       "      <td>2.000000</td>\n",
       "      <td>12036.000000</td>\n",
       "      <td>4.990000</td>\n",
       "    </tr>\n",
       "    <tr>\n",
       "      <th>max</th>\n",
       "      <td>32098.00000</td>\n",
       "      <td>599.000000</td>\n",
       "      <td>2.000000</td>\n",
       "      <td>16049.000000</td>\n",
       "      <td>11.990000</td>\n",
       "    </tr>\n",
       "  </tbody>\n",
       "</table>\n",
       "</div>"
      ],
      "text/plain": [
       "        payment_id   customer_id      staff_id     rental_id        amount\n",
       "count  16049.00000  16049.000000  16049.000000  16049.000000  16049.000000\n",
       "mean   24074.00000    297.162689      1.497975   8024.301514      4.386286\n",
       "std     4633.09157    172.468100      0.500011   4632.452025      2.131412\n",
       "min    16050.00000      1.000000      1.000000      1.000000      0.000000\n",
       "25%    20062.00000    148.000000      1.000000   4015.000000      2.990000\n",
       "50%    24074.00000    296.000000      1.000000   8023.000000      3.990000\n",
       "75%    28086.00000    446.000000      2.000000  12036.000000      4.990000\n",
       "max    32098.00000    599.000000      2.000000  16049.000000     11.990000"
      ]
     },
     "execution_count": 11,
     "metadata": {},
     "output_type": "execute_result"
    }
   ],
   "source": [
    "df.describe()"
   ]
  },
  {
   "cell_type": "code",
   "execution_count": 12,
   "id": "3ac64344",
   "metadata": {},
   "outputs": [
    {
     "name": "stdout",
     "output_type": "stream",
     "text": [
      "categories in staff id :     [2 1]\n"
     ]
    }
   ],
   "source": [
    "print(\"categories in staff id :   \" , end=\"  \")\n",
    "print(df['staff_id'].unique())"
   ]
  },
  {
   "cell_type": "code",
   "execution_count": null,
   "id": "3daf786c",
   "metadata": {},
   "outputs": [],
   "source": [
    "#define numerical and categorical features\n",
    "numeric_features = [feature for feature in df.columns if df[feature].dtype != 'O']\n",
    "categorical_features = [feature for feature in df.columns if df[feature].dtype == 'O']\n",
    "\n",
    "# print columns\n",
    "print('We have {} numerical features : {}'.format(len(numeric_features), numeric_features))\n",
    "print('\\nWe have {} categorical features : {}'.format(len(categorical_features), categorical_features))"
   ]
  },
  {
   "cell_type": "markdown",
   "id": "c214775b",
   "metadata": {},
   "source": [
    "4.1.1 Histogram & KDE"
   ]
  },
  {
   "cell_type": "code",
   "execution_count": 16,
   "id": "9507a827",
   "metadata": {},
   "outputs": [
    {
     "data": {
      "image/png": "[encoded data removed]",
      "text/plain": [
       "<Figure size 1500x700 with 2 Axes>"
      ]
     },
     "metadata": {},
     "output_type": "display_data"
    }
   ],
   "source": [
    "fig, axs = plt.subplots(1, 2, figsize=(15, 7))\n",
    "plt.subplot(121)\n",
    "sns.histplot(data=df,x='amount',bins=30,kde=True,color='g')\n",
    "plt.subplot(122)\n",
    "sns.histplot(data=df,x='payment_id',kde=True)\n",
    "plt.show()"
   ]
  }
 ],
 "metadata": {
  "kernelspec": {
   "display_name": "Python 3",
   "language": "python",
   "name": "python3"
  },
  "language_info": {
   "codemirror_mode": {
    "name": "ipython",
    "version": 3
   },
   "file_extension": ".py",
   "mimetype": "text/x-python",
   "name": "python",
   "nbconvert_exporter": "python",
   "pygments_lexer": "ipython3",
   "version": "3.11.0"
  }
 },
 "nbformat": 4,
 "nbformat_minor": 5
}
